{
  "cells": [
    {
      "cell_type": "markdown",
      "metadata": {
        "id": "view-in-github",
        "colab_type": "text"
      },
      "source": [
        "<a href=\"https://colab.research.google.com/github/syedahmedali09/Assignment-AIC_034647/blob/main/Untitled10.ipynb\" target=\"_parent\"><img src=\"https://colab.research.google.com/assets/colab-badge.svg\" alt=\"Open In Colab\"/></a>"
      ]
    },
    {
      "cell_type": "code",
      "execution_count": 8,
      "metadata": {
        "id": "UpStvKc1TBrR"
      },
      "outputs": [],
      "source": [
        "import pandas as pd\n",
        "from calendar import monthrange\n",
        "from calendar import month_name\n",
        "from datetime import datetime\n",
        "student_name=[]\n",
        "student_gr=[]\n",
        "student_fingerprint=[]\n",
        "student_RF_ID=[]\n",
        "period_time=[]\n",
        "data=[]\n",
        "sheet_name_list=[]"
      ]
    },
    {
      "cell_type": "code",
      "execution_count": 14,
      "metadata": {
        "id": "4XrHkjXxFoqF"
      },
      "outputs": [],
      "source": [
        "Day_name=[\"Sunday\",\"Monday\",\"Tuesday\",\"Wednesdays\",\"Thursday\",\"Friday\",\"Saturday\"]\n",
        "Day_name_set=[\"Sun\",\"Mon\",\"Tues\",\"Wed\",\"Thur\",\"Fri\",\"Sat\"]"
      ]
    },
    {
      "cell_type": "code",
      "execution_count": null,
      "metadata": {
        "colab": {
          "base_uri": "https://localhost:8080/"
        },
        "id": "OIOw0FpeFo5v",
        "outputId": "0f956596-e703-4f71-e73f-f3163f512b94"
      },
      "outputs": [
        {
          "name": "stdout",
          "output_type": "stream",
          "text": [
            "Enter day name:tuesday\n",
            "subject name:QQQ\n"
          ]
        }
      ],
      "source": [
        "\n",
        "\n",
        "1st_day_name=datetime(2022, 7, 12)\n",
        "period_week=int(input(\"how many period will there be in this time week:\"))\n",
        "\n",
        "for i in range(period_week):\n",
        "  Input_day_name=str(input(\"Enter day name:\"))\n",
        "  Input_day_name_title=Input_day_name.title()\n",
        "  Input_day_name_title\n",
        "  Input_subject_name=str(input(\"subject name:\"))\n",
        "  for x in Day_name:\n",
        "\n",
        "    if Input_day_name_title==x:\n",
        "       index_day= Day_name.index(Input_day_name_title)\n",
        "       Day_name_set[index_day]=Input_subject_name"
      ]
    },
    {
      "cell_type": "code",
      "execution_count": null,
      "metadata": {
        "colab": {
          "base_uri": "https://localhost:8080/"
        },
        "id": "BhIMPAjkFpAl",
        "outputId": "f1c4b03f-bb4f-44aa-8d0d-075100c2b4ec"
      },
      "outputs": [
        {
          "output_type": "execute_result",
          "data": {
            "text/plain": [
              "['uui', 'ud', 'QQQ', 'Wed', 'Thur', 'nn', 'Sat']"
            ]
          },
          "metadata": {},
          "execution_count": 8
        }
      ],
      "source": [
        "Day_name_set"
      ]
    },
    {
      "cell_type": "code",
      "source": [
        "period_week=int(input(\"how many period will there be in this time week:\"))\n",
        "\n",
        "for i in range(period_week):\n",
        "  Input_day_name=str(input(\"Enter day name:\"))\n",
        "  Input_day_name_title=Input_day_name.title()\n",
        "  Input_day_name_title\n",
        "  Input_subject_name=str(input(\"subject name:\"))\n",
        "  for x in Day_name:\n",
        "\n",
        "    if Input_day_name_title==x:\n",
        "       index_day= Day_name.index(Input_day_name_title)\n",
        "       Day_name_set[index_day]=Input_subject_name"
      ],
      "metadata": {
        "colab": {
          "base_uri": "https://localhost:8080/"
        },
        "id": "kap1bMywNevM",
        "outputId": "e6da36c7-2c8e-425c-85cf-565a66183c65"
      },
      "execution_count": null,
      "outputs": [
        {
          "name": "stdout",
          "output_type": "stream",
          "text": [
            "how many period will there be in this time week:4\n",
            "Enter day name:monday\n",
            "subject name:ud\n",
            "Enter day name:friday\n",
            "subject name:nn\n",
            "Enter day name:sunday\n",
            "subject name:uui\n",
            "Enter day name:wednesday\n",
            "subject name:jj\n"
          ]
        }
      ]
    },
    {
      "cell_type": "code",
      "execution_count": null,
      "metadata": {
        "id": "KbfewQkLaNqS"
      },
      "outputs": [],
      "source": [
        "first_period_names_simple=[\"Sun\",\"Islamiate\",\"UEE(PR)\",\"basic_electronic(TH)\",\"UEE(TH)\",\"DLT\",\"Sat\",\"Sun\",\"Islamiate\",\"UEE(PR)\",\"basic_electronic(TH)\",\"UEE(TH)\",\"DLT\",\"Sat\",\"Sun\",\"Islamiate\",\"UEE(PR)\",\"basic_electronic(TH)\",\"UEE(TH)\",\"DLT\",\"Sat\",\"Sun\",\"Islamiate\",\"UEE(PR)\",\"basic_electronic(TH)\",\"UEE(TH)\",\"DLT\",\"Sat\",\"Sun\",\"Islamiate\",\"UEE(PR)\",\"basic_electronic(TH)\",\"UEE(TH)\",\"DLT\",\"Sat\",\"Sun\",\"Islamiate\",\"UEE(PR)\",\"basic_electronic(TH)\",\"UEE(TH)\",\"DLT\",\"Sat\"]\n",
        "\n",
        "absent=[]\n",
        "for A in range(34):\n",
        "  absent.append(\"A\")\n",
        "data=[]\n",
        "days=[]\n",
        "days_in_mouth=int(input(\"Enter days in in mouth:\"))\n",
        "for i in range(days_in_mouth+1):\n",
        "  days.append(i)\n",
        "del days[0]\n",
        "days.insert(0,\"january 2022\")\n",
        "days.insert(1,\"8:15 to 9:00 am\")\n",
        "days.append(\"total_present\")\n",
        "FIRST_PERIOD= pd.DataFrame(data,index=[],columns=days)\n",
        "\n",
        "first_period_names_simple=[\"Sun\",\"Islamiate\",\"UEE(PR)\",\"basic_electronic(TH)\",\"UEE(TH)\",\"DLT\",\"Sat\",\"Sun\",\"Islamiate\",\"UEE(PR)\",\"basic_electronic(TH)\",\"UEE(TH)\",\"DLT\",\"Sat\",\"Sun\",\"Islamiate\",\"UEE(PR)\",\"basic_electronic(TH)\",\"UEE(TH)\",\"DLT\",\"Sat\",\"Sun\",\"Islamiate\",\"UEE(PR)\",\"basic_electronic(TH)\",\"UEE(TH)\",\"DLT\",\"Sat\",\"Sun\",\"Islamiate\",\"UEE(PR)\",\"basic_electronic(TH)\",\"UEE(TH)\",\"DLT\",\"Sat\",\"Sun\",\"Islamiate\",\"UEE(PR)\",\"basic_electronic(TH)\",\"UEE(TH)\",\"DLT\",\"Sat\"]\n",
        "first_period_names=first_period_names_simple[7:days_in_mouth+7]\n",
        "first_period_names.insert(0,\"NAME\")\n",
        "first_period_names.insert(1,\"GR\")\n",
        "first_period_names.append(\"NaN\")\n",
        "FIRST_PERIOD.loc[len((FIRST_PERIOD.index)+1)]=first_period_names\n",
        "FIRST_PERIOD\n",
        "days[1]=\"9:00 to 9:45 am\"\n",
        "Second_Period= pd.DataFrame(data,index=[],columns=days)\n",
        "\n",
        "second_peroid_simple=[\"Sun\",\"Mang\",\"basic_electronic\",\"IPE\",\"UEE\",\"IPE\",\"Sun\",\"Sat\",\"Mang\",\"basic_electronic\",\"IPE\",\"UEE\",\"IPE\",\"Sun\",\"Sat\",\"Mang\",\"basic_electronic\",\"IPE\",\"UEE\",\"IPE\",\"Sun\",\"Sat\",\"Mang\",\"basic_electronic\",\"IPE\",\"UEE\",\"IPE\",\"Sun\",\"Sat\",\"Mang\",\"basic_electronic\",\"IPE\",\"UEE\",\"IPE\",\"Sun\",\"Sat\",\"Mang\",\"basic_electronic\",\"IPE\",\"UEE\",\"IPE\",\"Sun\",\"Sat\",\"Mang\",\"basic_electronic\",\"IPE\",\"UEE\",\"IPE\",\"Sun\",\"Sat\",\"Mang\",\"basic_electronic\",\"IPE\",\"UEE\",\"IPE\",\"Sun\"]\n",
        "\n",
        "second_period_names=second_peroid_simple[7:days_in_mouth+7]\n",
        "second_period_names.insert(0,\"NAME\")\n",
        "second_period_names.insert(1,\"GR\")\n",
        "second_period_names.append(\"NaN\")\n",
        "Second_Period.loc[len((Second_Period.index)+1)]=first_period_names\n",
        "#Second_Period\n",
        "FIRST_PERIOD"
      ]
    },
    {
      "cell_type": "code",
      "execution_count": null,
      "metadata": {
        "colab": {
          "base_uri": "https://localhost:8080/",
          "height": 289
        },
        "id": "-WAfow39XQdy",
        "outputId": "976388aa-6ea8-4547-8648-bf8587d211b1"
      },
      "outputs": [
        {
          "output_type": "stream",
          "name": "stdout",
          "text": [
            "enter the name:Ahmed ALi\n",
            "enter the gr no:166\n",
            "collect the fingerprint:&&\n",
            "provide RF ID:***\n",
            "['Ahmed ALi', '166', '&&', '***']\n"
          ]
        },
        {
          "output_type": "error",
          "ename": "NameError",
          "evalue": "ignored",
          "traceback": [
            "\u001b[0;31m---------------------------------------------------------------------------\u001b[0m",
            "\u001b[0;31mNameError\u001b[0m                                 Traceback (most recent call last)",
            "\u001b[0;32m<ipython-input-19-b22c63e7e943>\u001b[0m in \u001b[0;36m<module>\u001b[0;34m()\u001b[0m\n\u001b[1;32m     22\u001b[0m \u001b[0;34m\u001b[0m\u001b[0m\n\u001b[1;32m     23\u001b[0m \u001b[0;34m\u001b[0m\u001b[0m\n\u001b[0;32m---> 24\u001b[0;31m \u001b[0mpop\u001b[0m\u001b[0;34m.\u001b[0m\u001b[0mloc\u001b[0m\u001b[0;34m[\u001b[0m\u001b[0mlen\u001b[0m\u001b[0;34m(\u001b[0m\u001b[0;34m(\u001b[0m\u001b[0mSecond_Period\u001b[0m\u001b[0;34m.\u001b[0m\u001b[0mindex\u001b[0m\u001b[0;34m)\u001b[0m\u001b[0;34m+\u001b[0m\u001b[0;36m1\u001b[0m\u001b[0;34m)\u001b[0m\u001b[0;34m]\u001b[0m\u001b[0;34m=\u001b[0m\u001b[0madd_data\u001b[0m\u001b[0;34m\u001b[0m\u001b[0;34m\u001b[0m\u001b[0m\n\u001b[0m",
            "\u001b[0;31mNameError\u001b[0m: name 'Second_Period' is not defined"
          ]
        }
      ],
      "source": [
        "absent=[]\n",
        "for A in range(34):\n",
        "  absent.append(\"A\")\n",
        "name=input(\"enter the name:\")\n",
        "Gr=input(\"enter the gr no:\")\n",
        "fingerprint=input(\"collect the fingerprint:\")\n",
        "RF_ID=input(\"provide RF ID:\")\n",
        "student_data=[]\n",
        "student_data.append(name)\n",
        "student_data.append(Gr)\n",
        "student_data.append(fingerprint)\n",
        "student_data.append(RF_ID)\n",
        "print (student_data)\n",
        "student_name.append(student_data[0])\n",
        "student_gr.append(student_data[1])\n",
        "student_fingerprint.append(student_data[2])\n",
        "student_RF_ID.append(student_data[3])\n",
        "add_data=absent[0:len(pop.columns)-3]\n",
        "add_data.insert(0,name)\n",
        "add_data.insert(1,Gr)\n",
        "add_data.append(\"Nan\")\n",
        "\n",
        "\n",
        "pop.loc[len((pop.index)+1)]=add_data"
      ]
    },
    {
      "cell_type": "code",
      "source": [
        "\n",
        "mouth_name=str(input(\"Enter name of mouth:\"))\n",
        "start_period_time=input(\"starting time of period:\")\n",
        "end_period_time=input(\"ending time of period:\")\n",
        "period_time=start_period_time+\" to \"+end_period_time\n",
        "days=[]\n",
        "month=int(input(\"enter the month in numerical value\"))\n",
        "year=int(input(\"enter the year in numerical value\"))\n",
        "num_days = monthrange(year, month)[1] \n",
        "frist_day_name=datetime(year, 1, month)\n",
        "frist_day_name=pd.to_datetime(frist_day_name).day_name()\n",
        "frist_day_name\n",
        "\n",
        "for i in range(num_days):\n",
        "  days.append(i)\n",
        "del days[0]\n",
        "days.insert(0,month_name)\n",
        "days.insert(1,period_time)\n",
        "days.append(\"persentage\")\n",
        "period_in_week=int(input(\"how many period in week:\"))\n",
        "for i in range(period_in_week):\n",
        "  Input_day_name=str(input(\"Enter day name:\"))\n",
        "  Input_day_name_title=Input_day_name.title()\n",
        "  Input_day_name_title\n",
        "  Input_subject_name=str(input(\"subject name:\"))\n",
        "  for x in Day_name:\n",
        "\n",
        "    if Input_day_name_title==x:\n",
        "       index_day= Day_name.index(Input_day_name_title)\n",
        "       \n",
        "       Day_name_set[index_day]=Input_subject_name\n",
        "\n",
        "\n",
        "absent=[]\n",
        "for A in range(34):\n",
        "  absent.append(\"A\")\n"
      ],
      "metadata": {
        "colab": {
          "base_uri": "https://localhost:8080/",
          "height": 373
        },
        "id": "Kbt5JsyFVm4s",
        "outputId": "0f8b25ed-6fb6-4c61-9417-91eb8d4514bd"
      },
      "execution_count": 13,
      "outputs": [
        {
          "name": "stdout",
          "output_type": "stream",
          "text": [
            "Enter name of mouth:feb\n",
            "starting time of period:12:00 am\n",
            "ending time of period:1:00 pm\n",
            "enter the month in numerical value05\n",
            "enter the year in numerical value2022\n",
            "how many period in week:3\n",
            "Enter day name:monday\n",
            "subject name:ISL\n"
          ]
        },
        {
          "output_type": "error",
          "ename": "NameError",
          "evalue": "ignored",
          "traceback": [
            "\u001b[0;31m---------------------------------------------------------------------------\u001b[0m",
            "\u001b[0;31mNameError\u001b[0m                                 Traceback (most recent call last)",
            "\u001b[0;32m<ipython-input-13-41ddf884701c>\u001b[0m in \u001b[0;36m<module>\u001b[0;34m()\u001b[0m\n\u001b[1;32m     24\u001b[0m   \u001b[0mInput_day_name_title\u001b[0m\u001b[0;34m\u001b[0m\u001b[0;34m\u001b[0m\u001b[0m\n\u001b[1;32m     25\u001b[0m   \u001b[0mInput_subject_name\u001b[0m\u001b[0;34m=\u001b[0m\u001b[0mstr\u001b[0m\u001b[0;34m(\u001b[0m\u001b[0minput\u001b[0m\u001b[0;34m(\u001b[0m\u001b[0;34m\"subject name:\"\u001b[0m\u001b[0;34m)\u001b[0m\u001b[0;34m)\u001b[0m\u001b[0;34m\u001b[0m\u001b[0;34m\u001b[0m\u001b[0m\n\u001b[0;32m---> 26\u001b[0;31m   \u001b[0;32mfor\u001b[0m \u001b[0mx\u001b[0m \u001b[0;32min\u001b[0m \u001b[0mDay_name\u001b[0m\u001b[0;34m:\u001b[0m\u001b[0;34m\u001b[0m\u001b[0;34m\u001b[0m\u001b[0m\n\u001b[0m\u001b[1;32m     27\u001b[0m \u001b[0;34m\u001b[0m\u001b[0m\n\u001b[1;32m     28\u001b[0m     \u001b[0;32mif\u001b[0m \u001b[0mInput_day_name_title\u001b[0m\u001b[0;34m==\u001b[0m\u001b[0mx\u001b[0m\u001b[0;34m:\u001b[0m\u001b[0;34m\u001b[0m\u001b[0;34m\u001b[0m\u001b[0m\n",
            "\u001b[0;31mNameError\u001b[0m: name 'Day_name' is not defined"
          ]
        }
      ]
    },
    {
      "cell_type": "code",
      "execution_count": 11,
      "metadata": {
        "colab": {
          "base_uri": "https://localhost:8080/",
          "height": 70
        },
        "id": "PkdCM9YVSroH",
        "outputId": "fbd65f5e-9556-40f3-83b0-e5f3136ac212"
      },
      "outputs": [
        {
          "name": "stdout",
          "output_type": "stream",
          "text": [
            "enter the month in numerical value02\n",
            "enter the year in numerical value2023\n"
          ]
        },
        {
          "output_type": "execute_result",
          "data": {
            "application/vnd.google.colaboratory.intrinsic+json": {
              "type": "string"
            },
            "text/plain": [
              "'Monday'"
            ]
          },
          "metadata": {},
          "execution_count": 11
        }
      ],
      "source": [
        "month=int(input(\"enter the month in numerical value\"))\n",
        "year=int(input(\"enter the year in numerical value\"))\n",
        "\n",
        "num_days = monthrange(year, month)[1] \n",
        "frist_day_name=datetime(year, 1, month)\n",
        "frist_day_name=pd.to_datetime(frist_day_name).day_name()\n",
        "frist_day_name\n"
      ]
    },
    {
      "cell_type": "code",
      "execution_count": null,
      "metadata": {
        "id": "yNMujncKSrrU",
        "colab": {
          "base_uri": "https://localhost:8080/",
          "height": 52
        },
        "outputId": "4c599ed7-094c-4e49-b55e-5f6e3bd1e5bc"
      },
      "outputs": [
        {
          "name": "stdout",
          "output_type": "stream",
          "text": [
            "Enter the sheet namefrist_period\n"
          ]
        },
        {
          "output_type": "execute_result",
          "data": {
            "application/vnd.google.colaboratory.intrinsic+json": {
              "type": "string"
            },
            "text/plain": [
              "'frist_period'"
            ]
          },
          "metadata": {},
          "execution_count": 34
        }
      ],
      "source": [
        "sheet_name_i=(input(\"Enter the sheet name\"))\n",
        "g=\"\"\n",
        "sheet_name=sheet_name_i+g\n",
        "sheet_name"
      ]
    },
    {
      "cell_type": "code",
      "execution_count": null,
      "metadata": {
        "id": "TvspHzTZSrvl"
      },
      "outputs": [],
      "source": [
        "e=h+g"
      ]
    },
    {
      "cell_type": "code",
      "execution_count": null,
      "metadata": {
        "colab": {
          "base_uri": "https://localhost:8080/",
          "height": 180
        },
        "id": "nYLbFDJLdHZM",
        "outputId": "848a11d5-59ae-47e4-a970-b67c6a73a783"
      },
      "outputs": [
        {
          "data": {
            "text/html": [
              "\n",
              "  <div id=\"df-6dc9cb1b-1d6f-43fe-94a8-19f70b53637e\">\n",
              "    <div class=\"colab-df-container\">\n",
              "      <div>\n",
              "<style scoped>\n",
              "    .dataframe tbody tr th:only-of-type {\n",
              "        vertical-align: middle;\n",
              "    }\n",
              "\n",
              "    .dataframe tbody tr th {\n",
              "        vertical-align: top;\n",
              "    }\n",
              "\n",
              "    .dataframe thead th {\n",
              "        text-align: right;\n",
              "    }\n",
              "</style>\n",
              "<table border=\"1\" class=\"dataframe\">\n",
              "  <thead>\n",
              "    <tr style=\"text-align: right;\">\n",
              "      <th></th>\n",
              "      <th>january 2022</th>\n",
              "      <th>8:15 to 9:00 am</th>\n",
              "      <th>1</th>\n",
              "      <th>2</th>\n",
              "      <th>3</th>\n",
              "      <th>4</th>\n",
              "      <th>5</th>\n",
              "      <th>6</th>\n",
              "      <th>7</th>\n",
              "      <th>8</th>\n",
              "      <th>9</th>\n",
              "      <th>10</th>\n",
              "      <th>11</th>\n",
              "      <th>12</th>\n",
              "      <th>13</th>\n",
              "      <th>14</th>\n",
              "      <th>15</th>\n",
              "      <th>16</th>\n",
              "      <th>17</th>\n",
              "      <th>18</th>\n",
              "      <th>19</th>\n",
              "      <th>20</th>\n",
              "      <th>21</th>\n",
              "      <th>22</th>\n",
              "      <th>23</th>\n",
              "      <th>24</th>\n",
              "      <th>25</th>\n",
              "      <th>26</th>\n",
              "      <th>27</th>\n",
              "      <th>28</th>\n",
              "      <th>29</th>\n",
              "      <th>30</th>\n",
              "      <th>31</th>\n",
              "      <th>total_present</th>\n",
              "    </tr>\n",
              "  </thead>\n",
              "  <tbody>\n",
              "    <tr>\n",
              "      <th>0</th>\n",
              "      <td>NAME</td>\n",
              "      <td>GR</td>\n",
              "      <td>Sat</td>\n",
              "      <td>Sun</td>\n",
              "      <td>Islamiate</td>\n",
              "      <td>UEE(PR)</td>\n",
              "      <td>basic_electronic(TH)</td>\n",
              "      <td>UEE(TH)</td>\n",
              "      <td>DLT</td>\n",
              "      <td>Sat</td>\n",
              "      <td>Sun</td>\n",
              "      <td>Islamiate</td>\n",
              "      <td>UEE(PR)</td>\n",
              "      <td>basic_electronic(TH)</td>\n",
              "      <td>UEE(TH)</td>\n",
              "      <td>DLT</td>\n",
              "      <td>Sat</td>\n",
              "      <td>Sun</td>\n",
              "      <td>Islamiate</td>\n",
              "      <td>UEE(PR)</td>\n",
              "      <td>basic_electronic(TH)</td>\n",
              "      <td>UEE(TH)</td>\n",
              "      <td>DLT</td>\n",
              "      <td>Sat</td>\n",
              "      <td>Sun</td>\n",
              "      <td>Islamiate</td>\n",
              "      <td>UEE(PR)</td>\n",
              "      <td>basic_electronic(TH)</td>\n",
              "      <td>UEE(TH)</td>\n",
              "      <td>DLT</td>\n",
              "      <td>Sat</td>\n",
              "      <td>Sun</td>\n",
              "      <td>Islamiate</td>\n",
              "      <td>NaN</td>\n",
              "    </tr>\n",
              "  </tbody>\n",
              "</table>\n",
              "</div>\n",
              "      <button class=\"colab-df-convert\" onclick=\"convertToInteractive('df-6dc9cb1b-1d6f-43fe-94a8-19f70b53637e')\"\n",
              "              title=\"Convert this dataframe to an interactive table.\"\n",
              "              style=\"display:none;\">\n",
              "        \n",
              "  <svg xmlns=\"http://www.w3.org/2000/svg\" height=\"24px\"viewBox=\"0 0 24 24\"\n",
              "       width=\"24px\">\n",
              "    <path d=\"M0 0h24v24H0V0z\" fill=\"none\"/>\n",
              "    <path d=\"M18.56 5.44l.94 2.06.94-2.06 2.06-.94-2.06-.94-.94-2.06-.94 2.06-2.06.94zm-11 1L8.5 8.5l.94-2.06 2.06-.94-2.06-.94L8.5 2.5l-.94 2.06-2.06.94zm10 10l.94 2.06.94-2.06 2.06-.94-2.06-.94-.94-2.06-.94 2.06-2.06.94z\"/><path d=\"M17.41 7.96l-1.37-1.37c-.4-.4-.92-.59-1.43-.59-.52 0-1.04.2-1.43.59L10.3 9.45l-7.72 7.72c-.78.78-.78 2.05 0 2.83L4 21.41c.39.39.9.59 1.41.59.51 0 1.02-.2 1.41-.59l7.78-7.78 2.81-2.81c.8-.78.8-2.07 0-2.86zM5.41 20L4 18.59l7.72-7.72 1.47 1.35L5.41 20z\"/>\n",
              "  </svg>\n",
              "      </button>\n",
              "      \n",
              "  <style>\n",
              "    .colab-df-container {\n",
              "      display:flex;\n",
              "      flex-wrap:wrap;\n",
              "      gap: 12px;\n",
              "    }\n",
              "\n",
              "    .colab-df-convert {\n",
              "      background-color: #E8F0FE;\n",
              "      border: none;\n",
              "      border-radius: 50%;\n",
              "      cursor: pointer;\n",
              "      display: none;\n",
              "      fill: #1967D2;\n",
              "      height: 32px;\n",
              "      padding: 0 0 0 0;\n",
              "      width: 32px;\n",
              "    }\n",
              "\n",
              "    .colab-df-convert:hover {\n",
              "      background-color: #E2EBFA;\n",
              "      box-shadow: 0px 1px 2px rgba(60, 64, 67, 0.3), 0px 1px 3px 1px rgba(60, 64, 67, 0.15);\n",
              "      fill: #174EA6;\n",
              "    }\n",
              "\n",
              "    [theme=dark] .colab-df-convert {\n",
              "      background-color: #3B4455;\n",
              "      fill: #D2E3FC;\n",
              "    }\n",
              "\n",
              "    [theme=dark] .colab-df-convert:hover {\n",
              "      background-color: #434B5C;\n",
              "      box-shadow: 0px 1px 3px 1px rgba(0, 0, 0, 0.15);\n",
              "      filter: drop-shadow(0px 1px 2px rgba(0, 0, 0, 0.3));\n",
              "      fill: #FFFFFF;\n",
              "    }\n",
              "  </style>\n",
              "\n",
              "      <script>\n",
              "        const buttonEl =\n",
              "          document.querySelector('#df-6dc9cb1b-1d6f-43fe-94a8-19f70b53637e button.colab-df-convert');\n",
              "        buttonEl.style.display =\n",
              "          google.colab.kernel.accessAllowed ? 'block' : 'none';\n",
              "\n",
              "        async function convertToInteractive(key) {\n",
              "          const element = document.querySelector('#df-6dc9cb1b-1d6f-43fe-94a8-19f70b53637e');\n",
              "          const dataTable =\n",
              "            await google.colab.kernel.invokeFunction('convertToInteractive',\n",
              "                                                     [key], {});\n",
              "          if (!dataTable) return;\n",
              "\n",
              "          const docLinkHtml = 'Like what you see? Visit the ' +\n",
              "            '<a target=\"_blank\" href=https://colab.research.google.com/notebooks/data_table.ipynb>data table notebook</a>'\n",
              "            + ' to learn more about interactive tables.';\n",
              "          element.innerHTML = '';\n",
              "          dataTable['output_type'] = 'display_data';\n",
              "          await google.colab.output.renderOutput(dataTable, element);\n",
              "          const docLink = document.createElement('div');\n",
              "          docLink.innerHTML = docLinkHtml;\n",
              "          element.appendChild(docLink);\n",
              "        }\n",
              "      </script>\n",
              "    </div>\n",
              "  </div>\n",
              "  "
            ],
            "text/plain": [
              "  january 2022 8:15 to 9:00 am    1    2  ...   29   30         31 total_present\n",
              "0         NAME              GR  Sat  Sun  ...  Sat  Sun  Islamiate           NaN\n",
              "\n",
              "[1 rows x 34 columns]"
            ]
          },
          "execution_count": 4,
          "metadata": {},
          "output_type": "execute_result"
        }
      ],
      "source": [
        "FIRST_PERIOD"
      ]
    },
    {
      "cell_type": "code",
      "execution_count": null,
      "metadata": {
        "colab": {
          "base_uri": "https://localhost:8080/",
          "height": 176
        },
        "id": "EXl0V5NbMogS",
        "outputId": "ffcb1a64-5ab9-46ed-f145-8a72463cb76d"
      },
      "outputs": [
        {
          "data": {
            "text/html": [
              "\n",
              "  <div id=\"df-3cd22448-1668-49b5-9595-a87b60774e48\">\n",
              "    <div class=\"colab-df-container\">\n",
              "      <div>\n",
              "<style scoped>\n",
              "    .dataframe tbody tr th:only-of-type {\n",
              "        vertical-align: middle;\n",
              "    }\n",
              "\n",
              "    .dataframe tbody tr th {\n",
              "        vertical-align: top;\n",
              "    }\n",
              "\n",
              "    .dataframe thead th {\n",
              "        text-align: right;\n",
              "    }\n",
              "</style>\n",
              "<table border=\"1\" class=\"dataframe\">\n",
              "  <thead>\n",
              "    <tr style=\"text-align: right;\">\n",
              "      <th></th>\n",
              "      <th>February</th>\n",
              "      <th>2022</th>\n",
              "      <th>1</th>\n",
              "      <th>2</th>\n",
              "      <th>3</th>\n",
              "      <th>4</th>\n",
              "      <th>5</th>\n",
              "      <th>6</th>\n",
              "      <th>7</th>\n",
              "      <th>8</th>\n",
              "      <th>9</th>\n",
              "      <th>10</th>\n",
              "      <th>11</th>\n",
              "      <th>12</th>\n",
              "      <th>13</th>\n",
              "      <th>14</th>\n",
              "      <th>15</th>\n",
              "      <th>16</th>\n",
              "      <th>17</th>\n",
              "      <th>18</th>\n",
              "      <th>19</th>\n",
              "      <th>20</th>\n",
              "      <th>21</th>\n",
              "      <th>22</th>\n",
              "      <th>23</th>\n",
              "      <th>24</th>\n",
              "      <th>25</th>\n",
              "      <th>26</th>\n",
              "      <th>27</th>\n",
              "      <th>28</th>\n",
              "      <th>29</th>\n",
              "      <th>30</th>\n",
              "      <th>31</th>\n",
              "      <th>total_present</th>\n",
              "    </tr>\n",
              "  </thead>\n",
              "  <tbody>\n",
              "    <tr>\n",
              "      <th>0</th>\n",
              "      <td>NAME</td>\n",
              "      <td>GR</td>\n",
              "      <td>Sat</td>\n",
              "      <td>Sun</td>\n",
              "      <td>Islamiate</td>\n",
              "      <td>UEE(PR)</td>\n",
              "      <td>basic_electronic(TH)</td>\n",
              "      <td>UEE(TH)</td>\n",
              "      <td>DLT</td>\n",
              "      <td>Sat</td>\n",
              "      <td>Sun</td>\n",
              "      <td>Islamiate</td>\n",
              "      <td>UEE(PR)</td>\n",
              "      <td>basic_electronic(TH)</td>\n",
              "      <td>UEE(TH)</td>\n",
              "      <td>DLT</td>\n",
              "      <td>Sat</td>\n",
              "      <td>Sun</td>\n",
              "      <td>Islamiate</td>\n",
              "      <td>UEE(PR)</td>\n",
              "      <td>basic_electronic(TH)</td>\n",
              "      <td>UEE(TH)</td>\n",
              "      <td>DLT</td>\n",
              "      <td>Sat</td>\n",
              "      <td>Sun</td>\n",
              "      <td>Islamiate</td>\n",
              "      <td>UEE(PR)</td>\n",
              "      <td>basic_electronic(TH)</td>\n",
              "      <td>UEE(TH)</td>\n",
              "      <td>DLT</td>\n",
              "      <td>Sat</td>\n",
              "      <td>Sun</td>\n",
              "      <td>Islamiate</td>\n",
              "      <td>NaN</td>\n",
              "    </tr>\n",
              "    <tr>\n",
              "      <th>1</th>\n",
              "      <td>Ahmed</td>\n",
              "      <td>116</td>\n",
              "      <td>A</td>\n",
              "      <td>A</td>\n",
              "      <td>A</td>\n",
              "      <td>A</td>\n",
              "      <td>A</td>\n",
              "      <td>A</td>\n",
              "      <td>A</td>\n",
              "      <td>A</td>\n",
              "      <td>A</td>\n",
              "      <td>A</td>\n",
              "      <td>A</td>\n",
              "      <td>A</td>\n",
              "      <td>A</td>\n",
              "      <td>A</td>\n",
              "      <td>A</td>\n",
              "      <td>A</td>\n",
              "      <td>A</td>\n",
              "      <td>A</td>\n",
              "      <td>A</td>\n",
              "      <td>A</td>\n",
              "      <td>A</td>\n",
              "      <td>A</td>\n",
              "      <td>A</td>\n",
              "      <td>A</td>\n",
              "      <td>A</td>\n",
              "      <td>A</td>\n",
              "      <td>A</td>\n",
              "      <td>A</td>\n",
              "      <td>A</td>\n",
              "      <td>A</td>\n",
              "      <td>A</td>\n",
              "      <td>Nan</td>\n",
              "    </tr>\n",
              "  </tbody>\n",
              "</table>\n",
              "</div>\n",
              "      <button class=\"colab-df-convert\" onclick=\"convertToInteractive('df-3cd22448-1668-49b5-9595-a87b60774e48')\"\n",
              "              title=\"Convert this dataframe to an interactive table.\"\n",
              "              style=\"display:none;\">\n",
              "        \n",
              "  <svg xmlns=\"http://www.w3.org/2000/svg\" height=\"24px\"viewBox=\"0 0 24 24\"\n",
              "       width=\"24px\">\n",
              "    <path d=\"M0 0h24v24H0V0z\" fill=\"none\"/>\n",
              "    <path d=\"M18.56 5.44l.94 2.06.94-2.06 2.06-.94-2.06-.94-.94-2.06-.94 2.06-2.06.94zm-11 1L8.5 8.5l.94-2.06 2.06-.94-2.06-.94L8.5 2.5l-.94 2.06-2.06.94zm10 10l.94 2.06.94-2.06 2.06-.94-2.06-.94-.94-2.06-.94 2.06-2.06.94z\"/><path d=\"M17.41 7.96l-1.37-1.37c-.4-.4-.92-.59-1.43-.59-.52 0-1.04.2-1.43.59L10.3 9.45l-7.72 7.72c-.78.78-.78 2.05 0 2.83L4 21.41c.39.39.9.59 1.41.59.51 0 1.02-.2 1.41-.59l7.78-7.78 2.81-2.81c.8-.78.8-2.07 0-2.86zM5.41 20L4 18.59l7.72-7.72 1.47 1.35L5.41 20z\"/>\n",
              "  </svg>\n",
              "      </button>\n",
              "      \n",
              "  <style>\n",
              "    .colab-df-container {\n",
              "      display:flex;\n",
              "      flex-wrap:wrap;\n",
              "      gap: 12px;\n",
              "    }\n",
              "\n",
              "    .colab-df-convert {\n",
              "      background-color: #E8F0FE;\n",
              "      border: none;\n",
              "      border-radius: 50%;\n",
              "      cursor: pointer;\n",
              "      display: none;\n",
              "      fill: #1967D2;\n",
              "      height: 32px;\n",
              "      padding: 0 0 0 0;\n",
              "      width: 32px;\n",
              "    }\n",
              "\n",
              "    .colab-df-convert:hover {\n",
              "      background-color: #E2EBFA;\n",
              "      box-shadow: 0px 1px 2px rgba(60, 64, 67, 0.3), 0px 1px 3px 1px rgba(60, 64, 67, 0.15);\n",
              "      fill: #174EA6;\n",
              "    }\n",
              "\n",
              "    [theme=dark] .colab-df-convert {\n",
              "      background-color: #3B4455;\n",
              "      fill: #D2E3FC;\n",
              "    }\n",
              "\n",
              "    [theme=dark] .colab-df-convert:hover {\n",
              "      background-color: #434B5C;\n",
              "      box-shadow: 0px 1px 3px 1px rgba(0, 0, 0, 0.15);\n",
              "      filter: drop-shadow(0px 1px 2px rgba(0, 0, 0, 0.3));\n",
              "      fill: #FFFFFF;\n",
              "    }\n",
              "  </style>\n",
              "\n",
              "      <script>\n",
              "        const buttonEl =\n",
              "          document.querySelector('#df-3cd22448-1668-49b5-9595-a87b60774e48 button.colab-df-convert');\n",
              "        buttonEl.style.display =\n",
              "          google.colab.kernel.accessAllowed ? 'block' : 'none';\n",
              "\n",
              "        async function convertToInteractive(key) {\n",
              "          const element = document.querySelector('#df-3cd22448-1668-49b5-9595-a87b60774e48');\n",
              "          const dataTable =\n",
              "            await google.colab.kernel.invokeFunction('convertToInteractive',\n",
              "                                                     [key], {});\n",
              "          if (!dataTable) return;\n",
              "\n",
              "          const docLinkHtml = 'Like what you see? Visit the ' +\n",
              "            '<a target=\"_blank\" href=https://colab.research.google.com/notebooks/data_table.ipynb>data table notebook</a>'\n",
              "            + ' to learn more about interactive tables.';\n",
              "          element.innerHTML = '';\n",
              "          dataTable['output_type'] = 'display_data';\n",
              "          await google.colab.output.renderOutput(dataTable, element);\n",
              "          const docLink = document.createElement('div');\n",
              "          docLink.innerHTML = docLinkHtml;\n",
              "          element.appendChild(docLink);\n",
              "        }\n",
              "      </script>\n",
              "    </div>\n",
              "  </div>\n",
              "  "
            ],
            "text/plain": [
              "  February 2022    1    2          3  ...   28   29   30         31 total_present\n",
              "0     NAME   GR  Sat  Sun  Islamiate  ...  DLT  Sat  Sun  Islamiate           NaN\n",
              "1    Ahmed  116    A    A          A  ...    A    A    A          A           Nan\n",
              "\n",
              "[2 rows x 34 columns]"
            ]
          },
          "execution_count": 87,
          "metadata": {},
          "output_type": "execute_result"
        }
      ],
      "source": [
        "Second_Period"
      ]
    },
    {
      "cell_type": "code",
      "execution_count": null,
      "metadata": {
        "colab": {
          "base_uri": "https://localhost:8080/"
        },
        "id": "pTd2Vmc-u9l9",
        "outputId": "1e3e842f-be5b-4185-c042-2c63f8058596"
      },
      "outputs": [
        {
          "name": "stdout",
          "output_type": "stream",
          "text": [
            "['Ahmed']\n",
            "['116']\n",
            "['Anyprint']\n",
            "['Id1']\n"
          ]
        }
      ],
      "source": [
        "print(student_name)\n",
        "print(student_gr)\n",
        "print(student_fingerprint)\n",
        "print(student_RF_ID)"
      ]
    },
    {
      "cell_type": "code",
      "execution_count": null,
      "metadata": {
        "colab": {
          "base_uri": "https://localhost:8080/"
        },
        "id": "pwp9_0-5cF2A",
        "outputId": "7ecdbdc7-f9e6-41e7-f3a0-7b21e8796d6d"
      },
      "outputs": [
        {
          "name": "stdout",
          "output_type": "stream",
          "text": [
            "Anyprint\n",
            "Id1\n"
          ]
        }
      ],
      "source": [
        "finger_input  = input(\"\")\n",
        "rfid_input = input(\"\")"
      ]
    },
    {
      "cell_type": "code",
      "execution_count": null,
      "metadata": {
        "id": "gIFBmm7_Ivei"
      },
      "outputs": [],
      "source": [
        "for finger in student_fingerprint:\n",
        "  if finger== finger_input:\n",
        "    check_finger_p=student_fingerprint.index(finger_input)\n",
        "   \n",
        "for  id in student_RF_ID:\n",
        "    if id == rfid_input:\n",
        "      check_RF_ID=student_RF_ID.index(rfid_input)"
      ]
    },
    {
      "cell_type": "code",
      "execution_count": null,
      "metadata": {
        "colab": {
          "base_uri": "https://localhost:8080/"
        },
        "id": "I1SC9HdWQPXa",
        "outputId": "1587136d-63a0-455c-b6f4-425142b114f4"
      },
      "outputs": [
        {
          "name": "stdout",
          "output_type": "stream",
          "text": [
            "0\n"
          ]
        },
        {
          "data": {
            "text/plain": [
              "0"
            ]
          },
          "execution_count": 91,
          "metadata": {},
          "output_type": "execute_result"
        }
      ],
      "source": [
        "print(check_finger_p)\n",
        "check_RF_ID"
      ]
    },
    {
      "cell_type": "code",
      "execution_count": null,
      "metadata": {
        "colab": {
          "base_uri": "https://localhost:8080/"
        },
        "id": "oTWTE_y08JOl",
        "outputId": "18fc7eac-f55a-44b9-9a15-461960a56edb"
      },
      "outputs": [
        {
          "name": "stdout",
          "output_type": "stream",
          "text": [
            "2022 02-25\n",
            "23:18\n"
          ]
        }
      ],
      "source": [
        "from pytz import timezone \n",
        "from datetime import datetime\n",
        "\n",
        "date_now=datetime.now(timezone(\"Asia/Karachi\")).strftime('%Y %m-%d')\n",
        "print(date_now)\n",
        "time_now = datetime.now(timezone(\"Asia/Karachi\")).strftime('%H:%M')\n",
        "print(time_now)"
      ]
    },
    {
      "cell_type": "code",
      "execution_count": null,
      "metadata": {
        "id": "Aa7M2r0oC9Xb"
      },
      "outputs": [],
      "source": [
        "Time_set_arr=pd.date_range(start=\"2022-02-01\",end=\"2022-02-28\")"
      ]
    },
    {
      "cell_type": "code",
      "execution_count": null,
      "metadata": {
        "colab": {
          "base_uri": "https://localhost:8080/"
        },
        "id": "0OoLoOfRJ5vD",
        "outputId": "72746acc-6b98-4454-b185-38c2701a21d2"
      },
      "outputs": [
        {
          "data": {
            "text/plain": [
              "DatetimeIndex(['2022-02-01', '2022-02-02', '2022-02-03', '2022-02-04',\n",
              "               '2022-02-05', '2022-02-06', '2022-02-07', '2022-02-08',\n",
              "               '2022-02-09', '2022-02-10', '2022-02-11', '2022-02-12',\n",
              "               '2022-02-13', '2022-02-14', '2022-02-15', '2022-02-16',\n",
              "               '2022-02-17', '2022-02-18', '2022-02-19', '2022-02-20',\n",
              "               '2022-02-21', '2022-02-22', '2022-02-23', '2022-02-24',\n",
              "               '2022-02-25', '2022-02-26', '2022-02-27', '2022-02-28'],\n",
              "              dtype='datetime64[ns]', freq='D')"
            ]
          },
          "execution_count": 11,
          "metadata": {},
          "output_type": "execute_result"
        }
      ],
      "source": [
        "Time_set_arr"
      ]
    },
    {
      "cell_type": "code",
      "execution_count": null,
      "metadata": {
        "id": "Yrcyz5IwFuwZ"
      },
      "outputs": [],
      "source": [
        "Time_set_l=Time_set_arr.tolist()"
      ]
    },
    {
      "cell_type": "code",
      "execution_count": null,
      "metadata": {
        "colab": {
          "base_uri": "https://localhost:8080/"
        },
        "id": "6gz6sEMgEdBQ",
        "outputId": "894cc46d-1dd1-4c13-9652-915acd43a151"
      },
      "outputs": [
        {
          "data": {
            "text/plain": [
              "22"
            ]
          },
          "execution_count": 17,
          "metadata": {},
          "output_type": "execute_result"
        }
      ],
      "source": [
        "W=Time_set_arr==date_now \n",
        "R=W.tolist()\n",
        "R\n",
        "\n",
        "R.index(True)"
      ]
    },
    {
      "cell_type": "code",
      "execution_count": null,
      "metadata": {
        "colab": {
          "base_uri": "https://localhost:8080/"
        },
        "id": "noLJuiiyFEcZ",
        "outputId": "2c685aa4-9e5b-43de-e3cb-20192867be97"
      },
      "outputs": [
        {
          "data": {
            "text/plain": [
              "DatetimeIndex(['2022-02-01', '2022-02-02', '2022-02-03', '2022-02-04',\n",
              "               '2022-02-07', '2022-02-08', '2022-02-09', '2022-02-10',\n",
              "               '2022-02-11', '2022-02-14', '2022-02-15', '2022-02-16',\n",
              "               '2022-02-17', '2022-02-18', '2022-02-21', '2022-02-22',\n",
              "               '2022-02-23', '2022-02-24', '2022-02-25', '2022-02-28'],\n",
              "              dtype='datetime64[ns]', freq='B')"
            ]
          },
          "execution_count": 12,
          "metadata": {},
          "output_type": "execute_result"
        }
      ],
      "source": [
        "dt = pd.date_range(start=\"2022-02-01\",end=\"2022-02-28\", freq='B')\n",
        "dt"
      ]
    },
    {
      "cell_type": "code",
      "execution_count": null,
      "metadata": {
        "colab": {
          "base_uri": "https://localhost:8080/",
          "height": 167
        },
        "id": "yqpzawfyFFPk",
        "outputId": "8c4f3c10-db41-4d41-d6e0-2e3e580d57ab"
      },
      "outputs": [
        {
          "ename": "AttributeError",
          "evalue": "ignored",
          "output_type": "error",
          "traceback": [
            "\u001b[0;31m---------------------------------------------------------------------------\u001b[0m",
            "\u001b[0;31mAttributeError\u001b[0m                            Traceback (most recent call last)",
            "\u001b[0;32m<ipython-input-19-67a33016bdd7>\u001b[0m in \u001b[0;36m<module>\u001b[0;34m()\u001b[0m\n\u001b[0;32m----> 1\u001b[0;31m \u001b[0mdate_now\u001b[0m\u001b[0;34m.\u001b[0m\u001b[0mdate\u001b[0m\u001b[0;34m(\u001b[0m\u001b[0;34m)\u001b[0m\u001b[0;34m.\u001b[0m\u001b[0mstrftime\u001b[0m\u001b[0;34m(\u001b[0m\u001b[0;34m\"%A\"\u001b[0m\u001b[0;34m)\u001b[0m\u001b[0;34m\u001b[0m\u001b[0;34m\u001b[0m\u001b[0m\n\u001b[0m",
            "\u001b[0;31mAttributeError\u001b[0m: 'str' object has no attribute 'date'"
          ]
        }
      ],
      "source": [
        "date_now.date().strftime(\"%A\")"
      ]
    },
    {
      "cell_type": "code",
      "execution_count": null,
      "metadata": {
        "colab": {
          "base_uri": "https://localhost:8080/",
          "height": 202
        },
        "id": "ah1_KWrLFyDc",
        "outputId": "f7cf319b-5140-465e-a7c8-83f8f50423b5"
      },
      "outputs": [
        {
          "ename": "NameError",
          "evalue": "ignored",
          "output_type": "error",
          "traceback": [
            "\u001b[0;31m---------------------------------------------------------------------------\u001b[0m",
            "\u001b[0;31mNameError\u001b[0m                                 Traceback (most recent call last)",
            "\u001b[0;32m<ipython-input-18-02adaa891266>\u001b[0m in \u001b[0;36m<module>\u001b[0;34m()\u001b[0m\n\u001b[1;32m      1\u001b[0m \u001b[0;32mimport\u001b[0m \u001b[0mcalendar\u001b[0m \u001b[0;32mas\u001b[0m \u001b[0mcalender\u001b[0m\u001b[0;34m\u001b[0m\u001b[0;34m\u001b[0m\u001b[0m\n\u001b[1;32m      2\u001b[0m \u001b[0;31m# Convert using calender's day_name method\u001b[0m\u001b[0;34m\u001b[0m\u001b[0;34m\u001b[0m\u001b[0;34m\u001b[0m\u001b[0m\n\u001b[0;32m----> 3\u001b[0;31m \u001b[0mcalender\u001b[0m\u001b[0;34m.\u001b[0m\u001b[0mday_name\u001b[0m\u001b[0;34m[\u001b[0m\u001b[0mdate\u001b[0m\u001b[0;34m.\u001b[0m\u001b[0mweekday\u001b[0m\u001b[0;34m(\u001b[0m\u001b[0;34m)\u001b[0m\u001b[0;34m]\u001b[0m\u001b[0;34m\u001b[0m\u001b[0;34m\u001b[0m\u001b[0m\n\u001b[0m",
            "\u001b[0;31mNameError\u001b[0m: name 'date' is not defined"
          ]
        }
      ],
      "source": [
        ""
      ]
    },
    {
      "cell_type": "code",
      "execution_count": null,
      "metadata": {
        "colab": {
          "base_uri": "https://localhost:8080/"
        },
        "id": "zmevEuiuGivo",
        "outputId": "37b3bad7-1b05-45be-d236-2848f220ace8"
      },
      "outputs": [
        {
          "name": "stdout",
          "output_type": "stream",
          "text": [
            "2013-12-30 19:23:00\n"
          ]
        }
      ],
      "source": [
        "import datetime\n",
        "\n",
        "data = ['Monday,30 December,2013', 'Delivered_it', '19:23', '1']\n",
        "data = '{} {}'.format(data[0], data[2])\n",
        "timestamp = datetime.datetime.strptime(data, '%A,%d %B,%Y %H:%M')\n",
        "print(timestamp)"
      ]
    }
  ],
  "metadata": {
    "accelerator": "GPU",
    "colab": {
      "collapsed_sections": [],
      "name": "Untitled10.ipynb",
      "provenance": [],
      "authorship_tag": "ABX9TyNODRFtfw9WovWPyH/cbXOG",
      "include_colab_link": true
    },
    "kernelspec": {
      "display_name": "Python 3",
      "name": "python3"
    },
    "language_info": {
      "name": "python"
    }
  },
  "nbformat": 4,
  "nbformat_minor": 0
}